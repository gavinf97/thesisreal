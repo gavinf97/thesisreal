{
 "cells": [
  {
   "cell_type": "code",
   "execution_count": 20,
   "id": "075eee7f-20e1-45b6-a16b-2cd306a1b6b5",
   "metadata": {},
   "outputs": [],
   "source": [
    "#Gavin Farrell - 17/8/2021\n",
    "#Title: Process Biosynthetic MetaSpades text files\n",
    "\n",
    "#Code functions:\n",
    "#-Read in a muti-file compiled Biosynthetic MetaSpades .txt file\n",
    "#-Parse out BGC data in .txt file to a .tsv file for graphing in R\n",
    "#-Normalisation and comparison of Biosynthetic MetaSpades data sets\n",
    "\n",
    "#1. Open .txt file from Biosynthetic MetaSpades\n",
    "#!!!Rename files/paths as necessary!!!\n",
    "with open('/home/user/B_MetaSpades_output.txt') as bgc:\n",
    "    bgcs_string = bgc.read() #all in one string\n",
    "\n",
    "#1.1 Count overall predicted BGCs in .txt file\n",
    "bgcs_string.count('Predicted type')"
   ]
  },
  {
   "cell_type": "code",
   "execution_count": 167,
   "id": "398d5d47-a26f-4c5b-94a3-966b00acdf04",
   "metadata": {},
   "outputs": [
    {
     "name": "stdout",
     "output_type": "stream",
     "text": [
      "Types\n",
      "pks nrps nrps_pks other\n",
      "36968 9255 343 9477\n",
      "\n",
      "CRC Total BGCs = 56043 \n",
      "CRC Average no. BGCs/sample = 1273\n"
     ]
    },
    {
     "data": {
      "image/png": "[encoded data removed]",
      "text/plain": [
       "<Figure size 432x288 with 1 Axes>"
      ]
     },
     "metadata": {},
     "output_type": "display_data"
    }
   ],
   "source": [
    "#2. Parse out the four types of BGC family categories from Biosynthetc MetaSpades data into variables\n",
    "pks = bgcs_string.count('Predicted type: PKS')\n",
    "nrps = bgcs_string.count('Predicted type: NRPS')\n",
    "nrps_pks = bgcs_string.count('Predicted type: NRPS/PKS')\n",
    "other = bgcs_string.count('Predicted type: Custom')\n",
    "\n",
    "#2.1 Show the four tpes of BGC and returned counts below\n",
    "print('Types:')\n",
    "print('pks','nrps','nrps_pks','other')\n",
    "print(pks,nrps,nrps_pks,other)\n",
    "print( )\n",
    "total = (pks+nrps+nrps_pks+other)\n",
    "avrg = total/44 #change value to number of samples compiled in .txt\n",
    "\n",
    "#2.2 Show the average number BGCs per samples used; eg: 44 samples in this compiled .txt file, only use if comiled Biosynthetic MetaSpades data\n",
    "print('CRC Total BGCs =',total,'\\n'\n",
    "     'CRC Average no. BGCs/sample = ' + str(math.trunc((avrg))) )\n",
    "\n",
    "#2.3 Quick visualisation of data returned from parsing the file using Matplotlib\n",
    "#import packages for visualisation\n",
    "import matplotlib.pyplot as plt\n",
    "import numpy as np\n",
    "\n",
    "#Pie chart of distributon of 4 BGC family classifications\n",
    "bgc_fam_chart = np.array([pks, nrps, nrps_pks, other])\n",
    "mylabels = [\"PKS\", \"NRPS\", \"NRPS/PKS\", \"Other\"]\n",
    "plt.pie(bgc_fam_chart, labels = mylabels)\n",
    "plt.show() \n",
    "\n",
    "#Barchart of distributon of 4 BGC family classifications\n",
    "fig = plt.figure()\n",
    "ax = fig.add_axes([0,0,1,1])\n",
    "mylabels = [\"PKS\", \"NRPS\", \"NRPS/PKS\", \"Other\"]\n",
    "students = [pks,nrps,nrps_pks,other]\n",
    "ax.bar(mylabels,students)\n",
    "plt.show()"
   ]
  },
  {
   "cell_type": "code",
   "execution_count": 156,
   "id": "ef05be83-4532-4153-b664-3c0a1b3db5ee",
   "metadata": {},
   "outputs": [
    {
     "name": "stdout",
     "output_type": "stream",
     "text": [
      "Total# AMP-domains = 24098\n",
      "-Average # AMP-domains = 547\n",
      "\n",
      "Total# AT-domains = 3138\n",
      "-Average # AT-domains = 71\n",
      "\n",
      "Total# C-domains = 22088\n",
      "-Average # C-domains = 502\n",
      "\n",
      "Total# KR-domains = 71520\n",
      "-Average # KR-domains = 1625\n",
      "\n",
      "Total# KS-domains = 14816\n",
      "-Average # KS-domains = 336\n",
      "\n",
      "Total# TE-domains = 380\n",
      "-Average # TE-domains = 8\n",
      "\n"
     ]
    }
   ],
   "source": [
    "#3. Parse out the six types of BGC domain categories from Biosynthetc MetaSpades data into variables\n",
    "\n",
    "#import math package for calculations\n",
    "import math\n",
    "\n",
    "#3.1 Read in file \n",
    "with open('/home/user/B_MetaSpades_output.txt') as bgc:\n",
    "    bgcs = bgc.readlines() #all in one string\n",
    "\n",
    "#3.2 Defines reusable Domain parsing function \n",
    "def domain_parse(domain_str):\n",
    "        \"\"\"Parses domains in combined bgc stats txt files\"\"\" \n",
    "        new = 0\n",
    "        y = 0\n",
    "        #Account for blunt parsing, depending on counts in users files returned -> may need to adjust code\n",
    "        if (len(domain_str)) == 11:\n",
    "            line_parse = 14\n",
    "        else:\n",
    "            line_parse = 15\n",
    "        \n",
    "        #Parse out domain data and calculate stats\n",
    "        for line in bgcs:\n",
    "            if line.startswith(str(domain_str)):\n",
    "                x = (int(line[line_parse:19]))\n",
    "                new = new + x\n",
    "                y = y + 1\n",
    "        avrg = int(new)/y\n",
    "        print('Total' + domain_str + ' = ' + str(new) + '\\n'\n",
    "          '-Average ' + domain_str + ' = ' + str(math.trunc((avrg))) + '\\n') \n",
    "        \n",
    "#3.3 Uses defined function to calculate domain data of all 6 domain types        \n",
    "domain_parse('# AMP-domains')\n",
    "domain_parse('# AT-domains')\n",
    "domain_parse('# C-domains')\n",
    "domain_parse('# KR-domains')\n",
    "domain_parse('# KS-domains')\n",
    "domain_parse('# TE-domains')"
   ]
  },
  {
   "cell_type": "code",
   "execution_count": 108,
   "id": "7eb8ef1b-67c3-4f68-8c11-75eec8eb8da9",
   "metadata": {},
   "outputs": [
    {
     "name": "stdout",
     "output_type": "stream",
     "text": [
      "['ERR1293545.contigs.fa:11980\\n', 'ERR1293581.contigs.fa:11906\\n', 'ERR1293674.contigs.fa:9888\\n', 'ERR1293738.contigs.fa:25149\\n', 'ERR1293750.contigs.fa:22158\\n', 'ERR1293842.contigs.fa:13263\\n', 'ERR1293878.contigs.fa:18553\\n', 'ERR1293937.contigs.fa:9853\\n']\n",
      "['crc_ERR1293545_results_merged.gbk:26\\n', 'crc_ERR1293581_results_merged.gbk:43\\n', 'crc_ERR1293674_results_merged.gbk:20\\n', 'crc_ERR1293738_results_merged.gbk:108\\n', 'crc_ERR1293750_results_merged.gbk:92\\n', 'crc_ERR1293842_results_merged.gbk:45\\n', 'crc_ERR1293878_results_merged.gbk:19\\n', 'crc_ERR1293937_results_merged.gbk:37\\n']\n",
      "['ERR1293545.contigs.fa:11980', 'ERR1293581.contigs.fa:11906', 'ERR1293674.contigs.fa:9888', 'ERR1293738.contigs.fa:25149', 'ERR1293750.contigs.fa:22158', 'ERR1293842.contigs.fa:13263', 'ERR1293878.contigs.fa:18553', 'ERR1293937.contigs.fa:9853']\n",
      "['crc_ERR1293545_results_merged.gbk:26', 'crc_ERR1293581_results_merged.gbk:43', 'crc_ERR1293674_results_merged.gbk:20', 'crc_ERR1293738_results_merged.gbk:108', 'crc_ERR1293750_results_merged.gbk:92', 'crc_ERR1293842_results_merged.gbk:45', 'crc_ERR1293878_results_merged.gbk:19', 'crc_ERR1293937_results_merged.gbk:37']\n",
      "ERR1293545.contigs.fa:11980\n",
      "\n",
      "ERR1293581.contigs.fa:11906\n",
      "\n",
      "ERR1293674.contigs.fa:9888\n",
      "\n",
      "ERR1293738.contigs.fa:25149\n",
      "\n",
      "ERR1293750.contigs.fa:22158\n",
      "\n",
      "ERR1293842.contigs.fa:13263\n",
      "\n",
      "ERR1293878.contigs.fa:18553\n",
      "\n",
      "ERR1293937.contigs.fa:9853\n",
      "\n",
      "['ERR1293525.contigs.fa:11594\\n', 'ERR1293585.contigs.fa:10720\\n', 'ERR1293651.contigs.fa:78430\\n', 'ERR1293662.contigs.fa:17178\\n', 'ERR1293670.contigs.fa:17528\\n', 'ERR1293705.contigs.fa:16366\\n', 'ERR1293710.contigs.fa:20461\\n', 'ERR1293758.contigs.fa:19743\\n']\n",
      "['normal_ERR1293525_results_merged.gbk:30\\n', 'normal_ERR1293585_results_merged.gbk:30\\n', 'normal_ERR1293651_results_merged.gbk:72\\n', 'normal_ERR1293662_results_merged.gbk:46\\n', 'normal_ERR1293670_results_merged.gbk:55\\n', 'normal_ERR1293705_results_merged.gbk:54\\n', 'normal_ERR1293710_results_merged.gbk:70\\n', 'normal_ERR1293758_results_merged.gbk:48\\n']\n",
      "['ERR1293525.contigs.fa:11594', 'ERR1293585.contigs.fa:10720', 'ERR1293651.contigs.fa:78430', 'ERR1293662.contigs.fa:17178', 'ERR1293670.contigs.fa:17528', 'ERR1293705.contigs.fa:16366', 'ERR1293710.contigs.fa:20461', 'ERR1293758.contigs.fa:19743']\n",
      "['normal_ERR1293525_results_merged.gbk:30', 'normal_ERR1293585_results_merged.gbk:30', 'normal_ERR1293651_results_merged.gbk:72', 'normal_ERR1293662_results_merged.gbk:46', 'normal_ERR1293670_results_merged.gbk:55', 'normal_ERR1293705_results_merged.gbk:54', 'normal_ERR1293710_results_merged.gbk:70', 'normal_ERR1293758_results_merged.gbk:48']\n"
     ]
    }
   ],
   "source": [
    "#4. Normalisation of Biosynthetic MetaSpades output BGC count data against corresponding sample read data\n",
    "#Normalsation done against number of reads in sample\n",
    "\n",
    "#4.1 Opens CRC read data and related BGC count data from txt files\n",
    "with open('/home/user/reads.txt') as read_data:\n",
    "    r_data = read_data.readlines() \n",
    "with open('/home/user/bgc_counts.txt') as bgc_data:\n",
    "    b_data = bgc_data.readlines()\n",
    "\n",
    "#4.2 Normalises the data \n",
    "#4.2.1 CRC data (or any data set to compare)\n",
    "#Strips data to figures needed\n",
    "r_data1 = []\n",
    "b_data1 = [] \n",
    "\n",
    "for element in r_data:\n",
    "    r_data1.append(element.strip('\\n'))\n",
    "print(r_data1)\n",
    "for element in b_data:\n",
    "    b_data1.append(element.strip('\\n'))\n",
    "print(b_data1)\n",
    "for sample in r_data:\n",
    "    print(sample)\n",
    "    \n",
    "\n",
    "#4.3 Opens Normal read data and related BGC count data from txt files\n",
    "with open('/home/gavin/thesis/python_r/1final_data/8mega_work_files/normalisation_stage2/normal_count_data/mega8_normal_fasta_reads.txt') as read_data:\n",
    "    r_norm_data = read_data.readlines() #all in one string\n",
    "with open('/home/gavin/thesis/python_r/1final_data/8mega_work_files/normalisation_stage2/normal_count_data/mega8_normal_gbk_bgcs_count.txt') as bgc_data:\n",
    "    b_norm_data = bgc_data.readlines()\n",
    "    \n",
    "#4.3.1 Normal data (or any data set to compare)\n",
    "#Strips data to figures needed\n",
    "r_norm_data1 = []\n",
    "b_norm_data1 = [] \n",
    "\n",
    "for element in r_norm_data:\n",
    "    r_norm_data1.append(element.strip('\\n'))\n",
    "print(r_norm_data1)\n",
    "for element in b_norm_data:\n",
    "    b_norm_data1.append(element.strip('\\n'))\n",
    "print(b_norm_data1)"
   ]
  },
  {
   "cell_type": "code",
   "execution_count": 104,
   "id": "2b50634d-c639-46b8-9737-c27ed72eff59",
   "metadata": {},
   "outputs": [
    {
     "name": "stdout",
     "output_type": "stream",
     "text": [
      "['ERR1293545.contigs.fa:11980', 'ERR1293581.contigs.fa:11906', 'ERR1293674.contigs.fa:9888', 'ERR1293738.contigs.fa:25149', 'ERR1293750.contigs.fa:22158', 'ERR1293842.contigs.fa:13263', 'ERR1293878.contigs.fa:18553', 'ERR1293937.contigs.fa:9853']\n",
      "['ERR1293545:11980', 'ERR1293581:11906', 'ERR1293674:9888', 'ERR1293738:25149', 'ERR1293750:22158', 'ERR1293842:13263', 'ERR1293878:18553', 'ERR1293937:9853']\n",
      "['crc_ERR1293545_results_merged.gbk:26', 'crc_ERR1293581_results_merged.gbk:43', 'crc_ERR1293674_results_merged.gbk:20', 'crc_ERR1293738_results_merged.gbk:108', 'crc_ERR1293750_results_merged.gbk:92', 'crc_ERR1293842_results_merged.gbk:45', 'crc_ERR1293878_results_merged.gbk:19', 'crc_ERR1293937_results_merged.gbk:37']\n",
      "['crc_ERR1293545:26', 'crc_ERR1293581:43', 'crc_ERR1293674:20', 'crc_ERR1293738:108', 'crc_ERR1293750:92', 'crc_ERR1293842:45', 'crc_ERR1293878:19', 'crc_ERR1293937:37']\n"
     ]
    }
   ],
   "source": [
    "#Fix and strip data for normalisation\n",
    "r_data2 = []\n",
    "for sample in r_data1:\n",
    "    r_data2.append(sample.replace(\".contigs.fa\", \"\"))\n",
    "\n",
    "b_data2 = []\n",
    "for sample in b_data1:\n",
    "    b_data2.append(sample.replace(\"_results_merged.gbk\", \"\"))"
   ]
  },
  {
   "cell_type": "code",
   "execution_count": 115,
   "id": "b5e08d06-14bb-43b2-9d11-ffd514948f6a",
   "metadata": {},
   "outputs": [
    {
     "name": "stdout",
     "output_type": "stream",
     "text": [
      "crc \n",
      "\n",
      "[26, 43, 20, 108, 92, 45, 19, 37]\n",
      "390\n",
      "[11980, 11906, 9888, 25149, 22158, 13263, 18553, 9853]\n",
      "122750\n",
      "\n",
      " normal \n",
      "\n",
      "[30, 30, 72, 46, 55, 54, 70, 48]\n",
      "405\n",
      "[11594, 10720, 78430, 17178, 17528, 16366, 20461, 19743]\n",
      "192020\n"
     ]
    },
    {
     "data": {
      "image/png": "[encoded data removed]",
      "text/plain": [
       "<Figure size 432x288 with 1 Axes>"
      ]
     },
     "metadata": {
      "needs_background": "light"
     },
     "output_type": "display_data"
    },
    {
     "data": {
      "image/png": "[encoded data removed]",
      "text/plain": [
       "<Figure size 432x288 with 1 Axes>"
      ]
     },
     "metadata": {
      "needs_background": "light"
     },
     "output_type": "display_data"
    },
    {
     "data": {
      "image/png": "[encoded data removed]",
      "text/plain": [
       "<Figure size 432x288 with 1 Axes>"
      ]
     },
     "metadata": {
      "needs_background": "light"
     },
     "output_type": "display_data"
    },
    {
     "data": {
      "image/png": "[encoded data removed]",
      "text/plain": [
       "<Figure size 432x288 with 1 Axes>"
      ]
     },
     "metadata": {
      "needs_background": "light"
     },
     "output_type": "display_data"
    },
    {
     "name": "stdout",
     "output_type": "stream",
     "text": [
      "[0.0025875452820424355, 0.002798507462686567, 0.0009180160652811424, 0.002677843753638375, 0.0031378366042902786, 0.0032995234021752414, 0.0034211426616489907, 0.002431241452666768]\n",
      "[30.998792478868378, 33.31902985074627, 9.077342853499935, 67.34509256025149, 69.52818347786399, 43.76157888305023, 63.47245980157372, 23.955022033125665]\n"
     ]
    }
   ],
   "source": [
    "print('crc \\n')\n",
    "#CRC\n",
    "#bgcsparse\n",
    "numbers_bgcs = []\n",
    "for sample in b_data2:\n",
    "    for word in str(sample).split(':'):\n",
    "           if word.isdigit():\n",
    "                  numbers_bgcs.append(int(word))\n",
    "print(numbers_bgcs)\n",
    "#bgcs total\n",
    "print(sum(numbers_bgcs))\n",
    "\n",
    "#readsparse\n",
    "numbers_reads =[]\n",
    "for sample in r_data2:\n",
    "    for word in str(sample).split(':'):\n",
    "           if word.isdigit():\n",
    "                  numbers_reads.append(int(word))\n",
    "print(numbers_reads)\n",
    "#reads total\n",
    "print(sum(numbers_reads))\n",
    "\n",
    "print('\\n normal \\n')\n",
    "#Normal\n",
    "#bgcsparse\n",
    "numbers_norm_bgcs = []\n",
    "for sample in b_norm_data1:\n",
    "    for word in str(sample).split(':'):\n",
    "           if word.isdigit():\n",
    "                  numbers_norm_bgcs.append(int(word))\n",
    "print(numbers_norm_bgcs)\n",
    "#bgcs total\n",
    "print(sum(numbers_norm_bgcs))\n",
    "\n",
    "#readsparse\n",
    "numbers_norm_reads =[]\n",
    "for sample in r_norm_data1:\n",
    "    for word in str(sample).split(':'):\n",
    "           if word.isdigit():\n",
    "                  numbers_norm_reads.append(int(word))\n",
    "print(numbers_norm_reads)\n",
    "#reads total\n",
    "print(sum(numbers_norm_reads))\n",
    "\n",
    "#Calcs: \n",
    "\n",
    "#1. plot barchart of samples across\n",
    "#crc read counts across samples\n",
    "import matplotlib.pyplot as plt\n",
    "fig = plt.figure()\n",
    "ax = fig.add_axes([0,0,1,1])\n",
    "mylabels = list(range(1, 9))\n",
    "students = numbers_reads\n",
    "ax.bar(mylabels,students)\n",
    "plt.show()\n",
    "#crc bgc counts across samples\n",
    "import matplotlib.pyplot as plt\n",
    "fig = plt.figure()\n",
    "ax = fig.add_axes([0,0,1,1])\n",
    "mylabels1 = list(range(1, 9))\n",
    "students1 = numbers_bgcs\n",
    "ax.bar(mylabels1,students1)\n",
    "plt.show()\n",
    "\n",
    "#normal bgc counts across samples\n",
    "import matplotlib.pyplot as plt\n",
    "fig = plt.figure()\n",
    "ax = fig.add_axes([0,0,1,1])\n",
    "mylabels2 = list(range(1, 9))\n",
    "students2 = numbers_norm_reads\n",
    "ax.bar(mylabels2,students2)\n",
    "plt.show()\n",
    "#crc bgc counts across samples\n",
    "import matplotlib.pyplot as plt\n",
    "fig = plt.figure()\n",
    "ax = fig.add_axes([0,0,1,1])\n",
    "mylabels3 = list(range(1, 9))\n",
    "students3 = numbers_norm_bgcs\n",
    "ax.bar(mylabels3,students3)\n",
    "plt.show()\n",
    "\n",
    "#2. plot normalised of same\n",
    "from operator import truediv\n",
    "res = list(map(truediv, numbers_norm_bgcs, numbers_norm_reads))\n",
    "print(res)\n",
    "from operator import mul\n",
    "multiplied = list(map(mul, res, numbers_reads))\n",
    "print(multiplied)\n",
    "#BADDDD\n",
    "\n",
    "\n",
    "#DONE BELOW IN NEXT CODE BLOCK\n",
    "from operator import truediv\n",
    "bgc_crc = list(map(truediv, numbers_bgcs, numbers_reads))\n",
    "print(res)\n",
    "normalised_bgc_norm = bgc_crc*10000\n",
    "bgc_norm = list(map(truediv, numbers_norm_bgcs, numbers_norm_reads))\n",
    "normalised_bgc_norm = bgc_norm*10000"
   ]
  },
  {
   "cell_type": "code",
   "execution_count": 135,
   "id": "0b70405c-f648-4d70-8493-3df998627db7",
   "metadata": {},
   "outputs": [
    {
     "name": "stdout",
     "output_type": "stream",
     "text": [
      "244.23158675706367\n",
      "[21.702838063439064, 36.116243910633294, 20.226537216828476, 42.94405344148873, 41.51999277913169, 33.92897534494458, 10.240931385759714, 37.55201461483812]\n",
      "212.716566844298\n",
      "[25.875452820424357, 27.98507462686567, 9.180160652811423, 26.77843753638375, 31.378366042902787, 32.99523402175242, 34.21142661648991, 24.31241452666768]\n"
     ]
    },
    {
     "data": {
      "image/png": "[encoded data removed]",
      "text/plain": [
       "<Figure size 432x288 with 1 Axes>"
      ]
     },
     "metadata": {
      "needs_background": "light"
     },
     "output_type": "display_data"
    },
    {
     "data": {
      "image/png": "[encoded data removed]",
      "text/plain": [
       "<Figure size 432x288 with 1 Axes>"
      ]
     },
     "metadata": {
      "needs_background": "light"
     },
     "output_type": "display_data"
    }
   ],
   "source": [
    "#RETRY  BGC_COUNT/READS X 10,000\n",
    "#normalised at bgc hts per 10000 reads\n",
    "from operator import truediv\n",
    "bgc_crc = list(map(truediv, numbers_bgcs, numbers_reads))\n",
    "normalised_crc_norm = [i * 10000 for i in bgc_crc]\n",
    "bgc_norm = list(map(truediv, numbers_norm_bgcs, numbers_norm_reads))\n",
    "normalised_bgc_norm = [i * 10000 for i in bgc_norm]\n",
    "\n",
    "print(sum(normalised_crc_norm))\n",
    "print(normalised_crc_norm)\n",
    "\n",
    "print(sum(normalised_bgc_norm))\n",
    "print(normalised_bgc_norm)\n",
    "\n",
    "#Import packages for graphing/math\n",
    "import numpy as np\n",
    "import matplotlib.pyplot as plt\n",
    "\n",
    "N = 8\n",
    "#crc\n",
    "menMeans = normalised_crc_norm\n",
    "ind = np.arange(N)  # the x locations for the groups\n",
    "width = 0.35       # the width of the bars\n",
    "fig = plt.figure()\n",
    "ax = fig.add_subplot(111)\n",
    "rects1 = ax.bar(ind, menMeans, width, color='red')\n",
    "\n",
    "#normal\n",
    "womenMeans = normalised_bgc_norm\n",
    "#(25, 32, 34, 20, 25)\n",
    "rects2 = ax.bar(ind+width, womenMeans, width, color='blue')\n",
    "\n",
    "#Basic paired plot for \n",
    "ax.set_ylabel('BGC count.')\n",
    "ax.set_title('Normalised BGC counts CRC Vs Normal')\n",
    "ax.set_xticks(ind + width / 2)\n",
    "ax.set_xticklabels( ('1', '2', '3', '4', '5', '6', '7', '8') )\n",
    "ax.legend( (rects1[0], rects2[0]), ('CRC', 'Normal') )\n",
    "plt.show()\n",
    "\n",
    "#Basic barplot for normalised CRC vs Normal count data\n",
    "import matplotlib.pyplot as plt\n",
    "fig = plt.figure()\n",
    "ax = fig.add_axes([0,0,1,1])\n",
    "mylabels = [\"crc\", \"norm\"]\n",
    "students = [244.23,212.71]\n",
    "ax.bar(mylabels,students)\n",
    "plt.show()"
   ]
  },
  {
   "cell_type": "code",
   "execution_count": 123,
   "id": "f003cc3a-db85-4fd2-a3e2-aa822a1060a7",
   "metadata": {},
   "outputs": [
    {
     "data": {
      "image/png": "[encoded data removed]",
      "text/plain": [
       "<Figure size 432x288 with 1 Axes>"
      ]
     },
     "metadata": {
      "needs_background": "light"
     },
     "output_type": "display_data"
    },
    {
     "data": {
      "image/png": "[encoded data removed]",
      "text/plain": [
       "<Figure size 432x288 with 1 Axes>"
      ]
     },
     "metadata": {
      "needs_background": "light"
     },
     "output_type": "display_data"
    }
   ],
   "source": [
    "#SAMPLE NORMALISED\n",
    "##############multibar\n",
    "import numpy as np\n",
    "import matplotlib.pyplot as plt\n",
    "\n",
    "N = 8\n",
    "#crc\n",
    "menMeans = numbers_bgcs\n",
    "#(20, 35, 30, 35, 27)\n",
    "\n",
    "ind = np.arange(N)  # the x locations for the groups\n",
    "width = 0.35       # the width of the bars\n",
    "\n",
    "fig = plt.figure()\n",
    "ax = fig.add_subplot(111)\n",
    "rects1 = ax.bar(ind, menMeans, width, color='red')\n",
    "\n",
    "#normal\n",
    "womenMeans = multiplied\n",
    "#(25, 32, 34, 20, 25)\n",
    "rects2 = ax.bar(ind+width, womenMeans, width, color='blue')\n",
    "\n",
    "# add some\n",
    "ax.set_ylabel('BGC count.')\n",
    "ax.set_title('Normalised BGC counts CRC Vs Normal')\n",
    "ax.set_xticks(ind + width / 2)\n",
    "ax.set_xticklabels( ('1', '2', '3', '4', '5', '6', '7', '8') )\n",
    "\n",
    "ax.legend( (rects1[0], rects2[0]), ('CRC', 'Normal') )\n",
    "\n",
    "plt.show()\n",
    "#####################################easy\n",
    "import matplotlib.pyplot as plt\n",
    "\n",
    "fig, ax = plt.subplots()\n",
    "\n",
    "bar_x = [1,2,3,4,5,6,7]\n",
    "bar_height = [12,14,17,11,12,9,12]\n",
    "bar_tick_label = ['C1','C2','C3','C4','C5','C6','C7']\n",
    "bar_label = [12,14,17,11,12,9,12]\n",
    "\n",
    "bar_plot = plt.bar(bar_x,bar_height,tick_label=bar_tick_label)\n",
    "\n",
    "def autolabel(rects):\n",
    "    for idx,rect in enumerate(bar_plot):\n",
    "        height = rect.get_height()\n",
    "        ax.text(rect.get_x() + rect.get_width()/2., 1.05*height,\n",
    "                bar_label[idx],\n",
    "                ha='center', va='bottom', rotation=0)\n",
    "\n",
    "autolabel(bar_plot)\n",
    "\n",
    "plt.ylim(0,20)\n",
    "\n",
    "plt.title('Add text for each bar with matplotlib')\n",
    "\n",
    "plt.savefig(\"add_text_bar_matplotlib_01.png\", bbox_inches='tight')\n",
    "plt.show()\n",
    "\n",
    "\n",
    "\n",
    "\n",
    "#BAD EXECUTION SUMMING"
   ]
  },
  {
   "cell_type": "code",
   "execution_count": 124,
   "id": "75b9ed71-d0d9-4e9e-a003-5693741efef0",
   "metadata": {},
   "outputs": [
    {
     "data": {
      "image/png": "[encoded data removed]",
      "text/plain": [
       "<Figure size 432x288 with 1 Axes>"
      ]
     },
     "metadata": {
      "needs_background": "light"
     },
     "output_type": "display_data"
    }
   ],
   "source": [
    "#SAMPLE NON-NORMALISED!\n",
    "#multibar\n",
    "import numpy as np\n",
    "import matplotlib.pyplot as plt\n",
    "\n",
    "N = 8\n",
    "#crc\n",
    "menMeans = numbers_bgcs\n",
    "#(20, 35, 30, 35, 27)\n",
    "\n",
    "ind = np.arange(N)  # the x locations for the groups\n",
    "width = 0.35       # the width of the bars\n",
    "\n",
    "fig = plt.figure()\n",
    "ax = fig.add_subplot(111)\n",
    "rects1 = ax.bar(ind, menMeans, width, color='red')\n",
    "\n",
    "#normal\n",
    "womenMeans = numbers_norm_bgcs\n",
    "#(25, 32, 34, 20, 25)\n",
    "rects2 = ax.bar(ind+width, womenMeans, width, color='blue')\n",
    "\n",
    "# add some\n",
    "ax.set_ylabel('BGC count.')\n",
    "ax.set_title('Normalised BGC counts CRC Vs Normal')\n",
    "ax.set_xticks(ind + width / 2)\n",
    "ax.set_xticklabels( ('1', '2', '3', '4', '5', '6', '7', '8') )\n",
    "ax.legend( (rects1[0], rects2[0]), ('CRC', 'Normal') )\n",
    "plt.show()"
   ]
  }
 ],
 "metadata": {
  "kernelspec": {
   "display_name": "Python 3",
   "language": "python",
   "name": "python3"
  },
  "language_info": {
   "codemirror_mode": {
    "name": "ipython",
    "version": 3
   },
   "file_extension": ".py",
   "mimetype": "text/x-python",
   "name": "python",
   "nbconvert_exporter": "python",
   "pygments_lexer": "ipython3",
   "version": "3.8.3"
  }
 },
 "nbformat": 4,
 "nbformat_minor": 5
}
